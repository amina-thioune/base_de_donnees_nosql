{
 "cells": [
  {
   "cell_type": "markdown",
   "metadata": {
    "id": "cgJpjnVoh3Zs"
   },
   "source": [
    "**Aminata THIOUNE**\n",
    "\n",
    "Groupe Augias\n"
   ]
  },
  {
   "cell_type": "markdown",
   "metadata": {
    "id": "t24zbr_aaXNx"
   },
   "source": [
    "**<h1>Redis</h1>**"
   ]
  },
  {
   "cell_type": "markdown",
   "metadata": {
    "id": "rJwbyXkDrz7u"
   },
   "source": [
    "Les **bases de données NoSQL** représentent une catégorie de systèmes de gestion de bases de données conçus pour gérer des volumes massifs de données non structurées ou semi-structurées. Contrairement aux bases de données relationnelles qui reposent sur des tables et des schémas rigides, les bases de données NoSQL offrent une flexibilité accrue, permettant de stocker des données sous diverses formes telles que des documents, des colonnes, des paires clé-valeur ou des graphes. Elles sont particulièrement adaptées aux applications nécessitant une scalabilité horizontale, une haute disponibilité et des performances optimisées.\n",
    "\n",
    "**Redis** est l'un des exemples les plus populaires de base de données NoSQL. Initialement conçu comme un store en mémoire RAM, Redis propose une structure de données clé-valeur extrêmement rapide, supportant des types variés tels que des chaînes, des listes, des ensembles et des hashmaps. Grâce à sa rapidité et à sa simplicité d'utilisation, Redis est souvent utilisé pour des cas d'utilisation tels que la mise en cache, la gestion des sessions et la gestion des files d'attente."
   ]
  },
  {
   "cell_type": "markdown",
   "metadata": {
    "id": "UaZAlPcGd2LL"
   },
   "source": [
    "##**Packages**"
   ]
  },
  {
   "cell_type": "code",
   "execution_count": null,
   "metadata": {
    "id": "o38FmFqCdxrZ"
   },
   "outputs": [],
   "source": [
    "!pip install redis\n",
    "!pip install redisbloom"
   ]
  },
  {
   "cell_type": "code",
   "execution_count": null,
   "metadata": {
    "id": "9TajLLm5eCkF"
   },
   "outputs": [],
   "source": [
    "import redis\n",
    "import csv\n",
    "import json\n",
    "from json import dumps\n",
    "import pandas as pd\n",
    "from redisbloom.client import Client\n",
    "import requests\n",
    "import time\n",
    "import random\n",
    "from statistics import mean\n",
    "\n",
    "# Connexion  à la base de données Redis (remplacer host et password)\n",
    "r = redis.Redis(\n",
    "  host='********',\n",
    "  port=17931,\n",
    "  password='******')"
   ]
  },
  {
   "cell_type": "markdown",
   "metadata": {
    "id": "IESsMTMpg0ZI"
   },
   "source": [
    "##**TEST**"
   ]
  },
  {
   "cell_type": "code",
   "execution_count": null,
   "metadata": {
    "colab": {
     "base_uri": "https://localhost:8080/"
    },
    "id": "EbVSTnCVJvRC",
    "outputId": "d4563414-f94c-42dd-e740-4c9713a22366"
   },
   "outputs": [
    {
     "name": "stdout",
     "output_type": "stream",
     "text": [
      "b'amy'\n"
     ]
    }
   ],
   "source": [
    "# Test\n",
    "r.set('name', 'amy')\n",
    "n = r.get('name')\n",
    "print(n)"
   ]
  },
  {
   "cell_type": "code",
   "execution_count": null,
   "metadata": {
    "colab": {
     "base_uri": "https://localhost:8080/"
    },
    "id": "T25Ul1u6Lv7Q",
    "outputId": "18517bf2-1eec-4df6-f479-5c0d4fec5a2e"
   },
   "outputs": [
    {
     "name": "stdout",
     "output_type": "stream",
     "text": [
      "True\n",
      "----------------------------\n",
      "[b'awa', b'awa2']\n",
      "----------------------------\n",
      "1\n",
      "----------------------------\n",
      "[b'awa1']\n",
      "----------------------------\n",
      "----------------------------\n",
      "[b'awa3', b'awa1']\n",
      "----------------------------\n",
      "1\n"
     ]
    }
   ],
   "source": [
    "# définir plusieurs paires clé-valeur en une seule opération\n",
    "print(r.mset({'test1': 'awa', 'test2': 'awa2'}))\n",
    "print(\"----------------------------\")\n",
    "\n",
    "# récupérer les valeurs associées à plusieurs clés en une seule opération\n",
    "print(r.mget('test1', 'test2'))\n",
    "print(\"----------------------------\")\n",
    "\n",
    "\n",
    "# ajouter un ou plusieurs éléments au début d'une liste\n",
    "print(r.lpush('awa', 'awa1'))\n",
    "print(\"----------------------------\")\n",
    "\n",
    "\n",
    "# permet de récupérer tous les éléments dans une liste\n",
    "print(r.lrange('awa', 0, -1))\n",
    "print(\"----------------------------\")\n",
    "\n",
    "\n",
    "#permet d'insérer une valeur dans la liste\n",
    "r.linsert('awa', 'before', 'awa1', 'awa3')\n",
    "print(\"----------------------------\")\n",
    "\n",
    "# Afficher ma liste\n",
    "print(r.lrange('awa', 0, -1))\n",
    "print(\"----------------------------\")\n",
    "\n",
    "# Supprimer la liste\n",
    "print(r.delete('awa'))"
   ]
  },
  {
   "cell_type": "code",
   "execution_count": null,
   "metadata": {
    "colab": {
     "base_uri": "https://localhost:8080/"
    },
    "id": "eSuAMvwXOqOu",
    "outputId": "4a87b738-be06-4abb-f95d-ada5ac248d46"
   },
   "outputs": [
    {
     "data": {
      "text/plain": [
       "[]"
      ]
     },
     "execution_count": 9,
     "metadata": {},
     "output_type": "execute_result"
    }
   ],
   "source": [
    "r.lrange('awa', 0, -1)"
   ]
  },
  {
   "cell_type": "code",
   "execution_count": null,
   "metadata": {
    "colab": {
     "base_uri": "https://localhost:8080/"
    },
    "id": "xUNvDjltTVY4",
    "outputId": "f55203c5-036c-4959-f062-d303482aff7c"
   },
   "outputs": [
    {
     "name": "stdout",
     "output_type": "stream",
     "text": [
      "Afficher toute la table : {b'name': b'amina', b'email': b'aaa@gmail.com', b'statut': b'etudiant'}\n",
      "Afficher les valeurs : [b'amina', b'aaa@gmail.com', b'etudiant'] \n",
      "Afficher les clés : [b'name', b'email', b'statut']\n",
      "Supprimer le nom 1\n",
      "Affciher la table après suppression du nom : [b'aaa@gmail.com', b'etudiant']\n",
      " \n",
      "Table supprimée\n"
     ]
    }
   ],
   "source": [
    "# Permet d'ajouter ou de mettre à jour des champs dans un hash (ou table de hachage)\n",
    "if r.exists('test') and r.type('test') != 'hash':\n",
    "    r.delete('test')\n",
    "r.hset('test', mapping={'name': 'amina', 'email' : 'aaa@gmail.com', 'statut' : 'etudiant'})\n",
    "print(f\"Afficher toute la table : {r.hgetall('test')}\")\n",
    "print(f\"Afficher les valeurs : {r.hvals('test')} \")\n",
    "print(f\"Afficher les clés : {r.hkeys('test')}\")\n",
    "print(f\"Supprimer le nom {r.hdel('test', 'name')}\")\n",
    "print(f\"Affciher la table après suppression du nom : {r.hvals('test')}\")\n",
    "print(\" \")\n",
    "\n",
    "# Pour supprimer le test\n",
    "r.delete('test')\n",
    "print(\"Table supprimée\")"
   ]
  },
  {
   "cell_type": "markdown",
   "metadata": {
    "id": "uk9grsWu1Nks"
   },
   "source": [
    "##**CSV/JSON**"
   ]
  },
  {
   "cell_type": "code",
   "execution_count": null,
   "metadata": {
    "colab": {
     "base_uri": "https://localhost:8080/"
    },
    "id": "o42e7Tfi0R5e",
    "outputId": "690bc288-991e-4093-8d17-14f55aa6e5ec"
   },
   "outputs": [
    {
     "name": "stdout",
     "output_type": "stream",
     "text": [
      "====================\n",
      "{'test': {'Hervé P': {'Test 1': '10.00 / 16', 'Test 2': '12.00 / 18'}, 'Laurent H': {'Test 1': '15.00 / 16', 'Test 2': '12.00 / 18'}, 'Destin L': {'Test 1': '11.00 / 16', 'Test 2': '7.00 / 18'}, 'Guillaume C': {'Test 1': '10.00 / 16', 'Test 2': '4.00 / 18'}, 'Haytem D': {'Test 1': '12.00 / 16', 'Test 2': '7.00 / 18'}, 'Cam Chau N': {'Test 1': '6.00 / 16', 'Test 2': '9.00 / 18'}, 'Sarra Z': {'Test 1': '11.00 / 16', 'Test 2': '6.00 / 18'}, 'Romulus L': {'Test 1': '11.00 / 16', 'Test 2': '11.00 / 18'}, 'Thierno D': {'Test 1': '5.00 / 16', 'Test 2': '8.00 / 18'}, 'Rosenthal Preston R': {'Test 1': '13.00 / 16', 'Test 2': '13.00 / 18'}, 'Betty T': {'Test 1': '11.00 / 16', 'Test 2': '11.00 / 18'}, 'Mouloud B': {'Test 1': '13.00 / 16', 'Test 2': '17.00 / 18'}, 'Joseph L': {'Test 1': '11.00 / 16', 'Test 2': '11.00 / 18'}, 'Nataliya P': {'Test 1': '10.00 / 16', 'Test 2': '9.00 / 18'}}}\n",
      "====================\n",
      "{'test': [{'Test 2': '12.00 / 18', 'Test 1': '10.00 / 16', 'Prénom et nom': 'Hervé P'}, {'Test 2': '12.00 / 18', 'Test 1': '15.00 / 16', 'Prénom et nom': 'Laurent H'}, {'Test 2': '7.00 / 18', 'Test 1': '11.00 / 16', 'Prénom et nom': 'Destin L'}, {'Test 2': '4.00 / 18', 'Test 1': '10.00 / 16', 'Prénom et nom': 'Guillaume C'}, {'Test 2': '7.00 / 18', 'Test 1': '12.00 / 16', 'Prénom et nom': 'Haytem D'}, {'Test 2': '9.00 / 18', 'Test 1': '6.00 / 16', 'Prénom et nom': 'Cam Chau N'}, {'Test 2': '6.00 / 18', 'Test 1': '11.00 / 16', 'Prénom et nom': 'Sarra Z'}, {'Test 2': '11.00 / 18', 'Test 1': '11.00 / 16', 'Prénom et nom': 'Romulus L'}, {'Test 2': '8.00 / 18', 'Test 1': '5.00 / 16', 'Prénom et nom': 'Thierno D'}, {'Test 2': '13.00 / 18', 'Test 1': '13.00 / 16', 'Prénom et nom': 'Rosenthal Preston R'}, {'Test 2': '11.00 / 18', 'Test 1': '11.00 / 16', 'Prénom et nom': 'Betty T'}, {'Test 2': '17.00 / 18', 'Test 1': '13.00 / 16', 'Prénom et nom': 'Mouloud B'}, {'Test 2': '11.00 / 18', 'Test 1': '11.00 / 16', 'Prénom et nom': 'Joseph L'}, {'Test 2': '9.00 / 18', 'Test 1': '10.00 / 16', 'Prénom et nom': 'Nataliya P'}]}\n",
      "====================\n",
      "{\"test\": {\"Herv\\u00e9 P\": {\"Test 1\": \"10.00 / 16\", \"Test 2\": \"12.00 / 18\"}, \"Laurent H\": {\"Test 1\": \"15.00 / 16\", \"Test 2\": \"12.00 / 18\"}, \"Destin L\": {\"Test 1\": \"11.00 / 16\", \"Test 2\": \"7.00 / 18\"}, \"Guillaume C\": {\"Test 1\": \"10.00 / 16\", \"Test 2\": \"4.00 / 18\"}, \"Haytem D\": {\"Test 1\": \"12.00 / 16\", \"Test 2\": \"7.00 / 18\"}, \"Cam Chau N\": {\"Test 1\": \"6.00 / 16\", \"Test 2\": \"9.00 / 18\"}, \"Sarra Z\": {\"Test 1\": \"11.00 / 16\", \"Test 2\": \"6.00 / 18\"}, \"Romulus L\": {\"Test 1\": \"11.00 / 16\", \"Test 2\": \"11.00 / 18\"}, \"Thierno D\": {\"Test 1\": \"5.00 / 16\", \"Test 2\": \"8.00 / 18\"}, \"Rosenthal Preston R\": {\"Test 1\": \"13.00 / 16\", \"Test 2\": \"13.00 / 18\"}, \"Betty T\": {\"Test 1\": \"11.00 / 16\", \"Test 2\": \"11.00 / 18\"}, \"Mouloud B\": {\"Test 1\": \"13.00 / 16\", \"Test 2\": \"17.00 / 18\"}, \"Joseph L\": {\"Test 1\": \"11.00 / 16\", \"Test 2\": \"11.00 / 18\"}, \"Nataliya P\": {\"Test 1\": \"10.00 / 16\", \"Test 2\": \"9.00 / 18\"}}}\n",
      "<class 'str'>\n",
      "====================\n",
      "{\"test\": [{\"Test 2\": \"12.00 / 18\", \"Test 1\": \"10.00 / 16\", \"Pr\\u00e9nom et nom\": \"Herv\\u00e9 P\"}, {\"Test 2\": \"12.00 / 18\", \"Test 1\": \"15.00 / 16\", \"Pr\\u00e9nom et nom\": \"Laurent H\"}, {\"Test 2\": \"7.00 / 18\", \"Test 1\": \"11.00 / 16\", \"Pr\\u00e9nom et nom\": \"Destin L\"}, {\"Test 2\": \"4.00 / 18\", \"Test 1\": \"10.00 / 16\", \"Pr\\u00e9nom et nom\": \"Guillaume C\"}, {\"Test 2\": \"7.00 / 18\", \"Test 1\": \"12.00 / 16\", \"Pr\\u00e9nom et nom\": \"Haytem D\"}, {\"Test 2\": \"9.00 / 18\", \"Test 1\": \"6.00 / 16\", \"Pr\\u00e9nom et nom\": \"Cam Chau N\"}, {\"Test 2\": \"6.00 / 18\", \"Test 1\": \"11.00 / 16\", \"Pr\\u00e9nom et nom\": \"Sarra Z\"}, {\"Test 2\": \"11.00 / 18\", \"Test 1\": \"11.00 / 16\", \"Pr\\u00e9nom et nom\": \"Romulus L\"}, {\"Test 2\": \"8.00 / 18\", \"Test 1\": \"5.00 / 16\", \"Pr\\u00e9nom et nom\": \"Thierno D\"}, {\"Test 2\": \"13.00 / 18\", \"Test 1\": \"13.00 / 16\", \"Pr\\u00e9nom et nom\": \"Rosenthal Preston R\"}, {\"Test 2\": \"11.00 / 18\", \"Test 1\": \"11.00 / 16\", \"Pr\\u00e9nom et nom\": \"Betty T\"}, {\"Test 2\": \"17.00 / 18\", \"Test 1\": \"13.00 / 16\", \"Pr\\u00e9nom et nom\": \"Mouloud B\"}, {\"Test 2\": \"11.00 / 18\", \"Test 1\": \"11.00 / 16\", \"Pr\\u00e9nom et nom\": \"Joseph L\"}, {\"Test 2\": \"9.00 / 18\", \"Test 1\": \"10.00 / 16\", \"Pr\\u00e9nom et nom\": \"Nataliya P\"}]}\n",
      "<class 'str'>\n"
     ]
    }
   ],
   "source": [
    "def csv_to_json(csv_file):\n",
    "\n",
    "    #create a dictionary\n",
    "    data_dict = {}\n",
    "    my_dict = {}\n",
    "    with open(csv_file, encoding = 'latin1') as csvfile:\n",
    "        my_reader = csv.DictReader(csvfile)\n",
    "        my_data = [my_row for my_row in my_reader]\n",
    "        for my_row in my_data:\n",
    "            #print(my_row)\n",
    "            my_dict = {}\n",
    "            my_dict['Test 1'] = my_row['Test 1']\n",
    "            my_dict['Test 2'] = my_row['Test 2']\n",
    "            data_dict[my_row['Prénom et nom']] = my_dict\n",
    "    print(\"====================\")\n",
    "    my_my_dict = {}\n",
    "    my_my_dict['test'] = data_dict\n",
    "    print(my_my_dict)\n",
    "    #for item in data_dict.items():\n",
    "    #    print(item)\n",
    "\n",
    "    #create a dictionary\n",
    "    data_dict = {}\n",
    "    csv_rows = []\n",
    "    #open a csv file handlerh\n",
    "    with open(csv_file, encoding = 'latin1', newline='') as csv_file_handler:\n",
    "        csv_reader = csv.DictReader(csv_file_handler)\n",
    "        field = csv_reader.fieldnames\n",
    "        for row in csv_reader:\n",
    "            #print([{field[i]:row[field[i]] for i in range(len(field))}])\n",
    "            csv_rows.extend([{field[i]:row[field[i]] for i in range(len(field))}])\n",
    "\n",
    "    print(\"====================\")\n",
    "    data_dict['test'] = csv_rows\n",
    "    #print(type(csv_rows))\n",
    "    print(data_dict)\n",
    "    \n",
    "\n",
    "    #\n",
    "    # convert both intermediary results to JSON object\n",
    "    #\n",
    "    y = dumps(my_my_dict)\n",
    "    z = dumps(data_dict)\n",
    "    print(\"====================\")\n",
    "    print(y)\n",
    "    print(type(y))\n",
    "    print(\"====================\")\n",
    "    print(z)\n",
    "    print(type(z))\n",
    "\n",
    "#Step 1\n",
    "\n",
    "csv_to_json(\"../data/test.csv\")"
   ]
  },
  {
   "cell_type": "markdown",
   "metadata": {
    "id": "FK0ddHxr4YaU"
   },
   "source": [
    "Le fichier csv à été implémenté en json suivant deux stuctures : un dictionnaires et une liste de dictionnaires.\n",
    "Le dictionnaire de dictionnaires est meilleur pour un accès rapide par clé, tandis que la liste de dictionnaires convient mieux aux structures ordonnées ou avec des clés non uniques."
   ]
  },
  {
   "cell_type": "code",
   "execution_count": null,
   "metadata": {
    "colab": {
     "base_uri": "https://localhost:8080/"
    },
    "id": "3aWHX-3y637l",
    "outputId": "6e49a5c2-8ce8-4b13-b0d9-3f6f3d97c1b9"
   },
   "outputs": [
    {
     "name": "stdout",
     "output_type": "stream",
     "text": [
      "{\"0\":{\"Test 2\":\"12.00 \\/ 18\",\"Test 1\":\"10.00 \\/ 16\",\"Pr\\u00e9nom et nom\":\"Herv\\u00e9 P\"},\"1\":{\"Test 2\":\"12.00 \\/ 18\",\"Test 1\":\"15.00 \\/ 16\",\"Pr\\u00e9nom et nom\":\"Laurent H\"},\"2\":{\"Test 2\":\"7.00 \\/ 18\",\"Test 1\":\"11.00 \\/ 16\",\"Pr\\u00e9nom et nom\":\"Destin L\"},\"3\":{\"Test 2\":\"4.00 \\/ 18\",\"Test 1\":\"10.00 \\/ 16\",\"Pr\\u00e9nom et nom\":\"Guillaume C\"},\"4\":{\"Test 2\":\"7.00 \\/ 18\",\"Test 1\":\"12.00 \\/ 16\",\"Pr\\u00e9nom et nom\":\"Haytem D\"},\"5\":{\"Test 2\":\"9.00 \\/ 18\",\"Test 1\":\"6.00 \\/ 16\",\"Pr\\u00e9nom et nom\":\"Cam Chau N\"},\"6\":{\"Test 2\":\"6.00 \\/ 18\",\"Test 1\":\"11.00 \\/ 16\",\"Pr\\u00e9nom et nom\":\"Sarra Z\"},\"7\":{\"Test 2\":\"11.00 \\/ 18\",\"Test 1\":\"11.00 \\/ 16\",\"Pr\\u00e9nom et nom\":\"Romulus L\"},\"8\":{\"Test 2\":\"8.00 \\/ 18\",\"Test 1\":\"5.00 \\/ 16\",\"Pr\\u00e9nom et nom\":\"Thierno D\"},\"9\":{\"Test 2\":\"13.00 \\/ 18\",\"Test 1\":\"13.00 \\/ 16\",\"Pr\\u00e9nom et nom\":\"Rosenthal Preston R\"},\"10\":{\"Test 2\":\"11.00 \\/ 18\",\"Test 1\":\"11.00 \\/ 16\",\"Pr\\u00e9nom et nom\":\"Betty T\"},\"11\":{\"Test 2\":\"17.00 \\/ 18\",\"Test 1\":\"13.00 \\/ 16\",\"Pr\\u00e9nom et nom\":\"Mouloud B\"},\"12\":{\"Test 2\":\"11.00 \\/ 18\",\"Test 1\":\"11.00 \\/ 16\",\"Pr\\u00e9nom et nom\":\"Joseph L\"},\"13\":{\"Test 2\":\"9.00 \\/ 18\",\"Test 1\":\"10.00 \\/ 16\",\"Pr\\u00e9nom et nom\":\"Nataliya P\"}}\n"
     ]
    }
   ],
   "source": [
    "data = pd.read_csv(\"../data/test.csv\", sep=\",\", low_memory=False, encoding = 'latin1')\n",
    "\n",
    "# Convertir le fichier csv en json\n",
    "data_json = data.to_json(orient='index')\n",
    "print(data_json)"
   ]
  },
  {
   "cell_type": "markdown",
   "metadata": {
    "id": "_ymGKU9e9wrW"
   },
   "source": [
    "##**Jointure sur des objets JSON**"
   ]
  },
  {
   "cell_type": "code",
   "execution_count": null,
   "metadata": {
    "colab": {
     "base_uri": "https://localhost:8080/"
    },
    "id": "TVLOEACN94_t",
    "outputId": "813dc425-791f-4818-bc14-e9bc8590a3c1"
   },
   "outputs": [
    {
     "name": "stdout",
     "output_type": "stream",
     "text": [
      "['Test 2', 'Test 1', 'Prénom et nom']\n",
      "====================\n",
      "{'test': {'Hervé P': {'Test 2': '12.00 / 18', 'Test 1': '10.00 / 16'}, 'Laurent H': {'Test 2': '12.00 / 18', 'Test 1': '15.00 / 16'}, 'Destin L': {'Test 2': '7.00 / 18', 'Test 1': '11.00 / 16'}, 'Guillaume C': {'Test 2': '4.00 / 18', 'Test 1': '10.00 / 16'}, 'Haytem D': {'Test 2': '7.00 / 18', 'Test 1': '12.00 / 16'}, 'Cam Chau N': {'Test 2': '9.00 / 18', 'Test 1': '6.00 / 16'}, 'Sarra Z': {'Test 2': '6.00 / 18', 'Test 1': '11.00 / 16'}, 'Romulus L': {'Test 2': '11.00 / 18', 'Test 1': '11.00 / 16'}, 'Thierno D': {'Test 2': '8.00 / 18', 'Test 1': '5.00 / 16'}, 'Rosenthal Preston R': {'Test 2': '13.00 / 18', 'Test 1': '13.00 / 16'}, 'Betty T': {'Test 2': '11.00 / 18', 'Test 1': '11.00 / 16'}, 'Mouloud B': {'Test 2': '17.00 / 18', 'Test 1': '13.00 / 16'}, 'Joseph L': {'Test 2': '11.00 / 18', 'Test 1': '11.00 / 16'}, 'Nataliya P': {'Test 2': '9.00 / 18', 'Test 1': '10.00 / 16'}}}\n",
      "====================\n",
      "{\"test\": {\"Herv\\u00e9 P\": {\"Test 2\": \"12.00 / 18\", \"Test 1\": \"10.00 / 16\"}, \"Laurent H\": {\"Test 2\": \"12.00 / 18\", \"Test 1\": \"15.00 / 16\"}, \"Destin L\": {\"Test 2\": \"7.00 / 18\", \"Test 1\": \"11.00 / 16\"}, \"Guillaume C\": {\"Test 2\": \"4.00 / 18\", \"Test 1\": \"10.00 / 16\"}, \"Haytem D\": {\"Test 2\": \"7.00 / 18\", \"Test 1\": \"12.00 / 16\"}, \"Cam Chau N\": {\"Test 2\": \"9.00 / 18\", \"Test 1\": \"6.00 / 16\"}, \"Sarra Z\": {\"Test 2\": \"6.00 / 18\", \"Test 1\": \"11.00 / 16\"}, \"Romulus L\": {\"Test 2\": \"11.00 / 18\", \"Test 1\": \"11.00 / 16\"}, \"Thierno D\": {\"Test 2\": \"8.00 / 18\", \"Test 1\": \"5.00 / 16\"}, \"Rosenthal Preston R\": {\"Test 2\": \"13.00 / 18\", \"Test 1\": \"13.00 / 16\"}, \"Betty T\": {\"Test 2\": \"11.00 / 18\", \"Test 1\": \"11.00 / 16\"}, \"Mouloud B\": {\"Test 2\": \"17.00 / 18\", \"Test 1\": \"13.00 / 16\"}, \"Joseph L\": {\"Test 2\": \"11.00 / 18\", \"Test 1\": \"11.00 / 16\"}, \"Nataliya P\": {\"Test 2\": \"9.00 / 18\", \"Test 1\": \"10.00 / 16\"}}}\n",
      "<class 'str'>\n",
      "====================\n",
      "['Test 2', 'Test 1', 'Prénom et nom']\n",
      "====================\n",
      "{'test': {'Hervé P': {'Test 2': '12.00 / 18', 'Test 1': '10.00 / 16'}, 'Laurent H': {'Test 2': '12.00 / 18', 'Test 1': '15.00 / 16'}, 'Destin L': {'Test 2': '7.00 / 18', 'Test 1': '11.00 / 16'}, 'Guillaume C': {'Test 2': '4.00 / 18', 'Test 1': '10.00 / 16'}, 'Haytem D': {'Test 2': '7.00 / 18', 'Test 1': '12.00 / 16'}, 'Cam Chau N': {'Test 2': '9.00 / 18', 'Test 1': '6.00 / 16'}, 'Sarra Z': {'Test 2': '6.00 / 18', 'Test 1': '11.00 / 16'}, 'Romulus L': {'Test 2': '11.00 / 18', 'Test 1': '11.00 / 16'}, 'Thierno D': {'Test 2': '8.00 / 18', 'Test 1': '5.00 / 16'}, 'Rosenthal Preston R': {'Test 2': '13.00 / 18', 'Test 1': '13.00 / 16'}, 'Betty T': {'Test 2': '11.00 / 18', 'Test 1': '11.00 / 16'}, 'Mouloud B': {'Test 2': '17.00 / 18', 'Test 1': '13.00 / 16'}, 'Joseph L': {'Test 2': '11.00 / 18', 'Test 1': '11.00 / 16'}, 'Nataliya P': {'Test 2': '9.00 / 18', 'Test 1': '10.00 / 16'}}}\n",
      "====================\n",
      "{\"test\": {\"Herv\\u00e9 P\": {\"Test 2\": \"12.00 / 18\", \"Test 1\": \"10.00 / 16\"}, \"Laurent H\": {\"Test 2\": \"12.00 / 18\", \"Test 1\": \"15.00 / 16\"}, \"Destin L\": {\"Test 2\": \"7.00 / 18\", \"Test 1\": \"11.00 / 16\"}, \"Guillaume C\": {\"Test 2\": \"4.00 / 18\", \"Test 1\": \"10.00 / 16\"}, \"Haytem D\": {\"Test 2\": \"7.00 / 18\", \"Test 1\": \"12.00 / 16\"}, \"Cam Chau N\": {\"Test 2\": \"9.00 / 18\", \"Test 1\": \"6.00 / 16\"}, \"Sarra Z\": {\"Test 2\": \"6.00 / 18\", \"Test 1\": \"11.00 / 16\"}, \"Romulus L\": {\"Test 2\": \"11.00 / 18\", \"Test 1\": \"11.00 / 16\"}, \"Thierno D\": {\"Test 2\": \"8.00 / 18\", \"Test 1\": \"5.00 / 16\"}, \"Rosenthal Preston R\": {\"Test 2\": \"13.00 / 18\", \"Test 1\": \"13.00 / 16\"}, \"Betty T\": {\"Test 2\": \"11.00 / 18\", \"Test 1\": \"11.00 / 16\"}, \"Mouloud B\": {\"Test 2\": \"17.00 / 18\", \"Test 1\": \"13.00 / 16\"}, \"Joseph L\": {\"Test 2\": \"11.00 / 18\", \"Test 1\": \"11.00 / 16\"}, \"Nataliya P\": {\"Test 2\": \"9.00 / 18\", \"Test 1\": \"10.00 / 16\"}}}\n",
      "<class 'str'>\n",
      "====================\n",
      "{\"test\": {\"Herv\\u00e9 P\": {\"Test 2\": \"12.00 / 18\", \"Test 1\": \"10.00 / 16\"}, \"Laurent H\": {\"Test 2\": \"12.00 / 18\", \"Test 1\": \"15.00 / 16\"}, \"Destin L\": {\"Test 2\": \"7.00 / 18\", \"Test 1\": \"11.00 / 16\"}, \"Guillaume C\": {\"Test 2\": \"4.00 / 18\", \"Test 1\": \"10.00 / 16\"}, \"Haytem D\": {\"Test 2\": \"7.00 / 18\", \"Test 1\": \"12.00 / 16\"}, \"Cam Chau N\": {\"Test 2\": \"9.00 / 18\", \"Test 1\": \"6.00 / 16\"}, \"Sarra Z\": {\"Test 2\": \"6.00 / 18\", \"Test 1\": \"11.00 / 16\"}, \"Romulus L\": {\"Test 2\": \"11.00 / 18\", \"Test 1\": \"11.00 / 16\"}, \"Thierno D\": {\"Test 2\": \"8.00 / 18\", \"Test 1\": \"5.00 / 16\"}, \"Rosenthal Preston R\": {\"Test 2\": \"13.00 / 18\", \"Test 1\": \"13.00 / 16\"}, \"Betty T\": {\"Test 2\": \"11.00 / 18\", \"Test 1\": \"11.00 / 16\"}, \"Mouloud B\": {\"Test 2\": \"17.00 / 18\", \"Test 1\": \"13.00 / 16\"}, \"Joseph L\": {\"Test 2\": \"11.00 / 18\", \"Test 1\": \"11.00 / 16\"}, \"Nataliya P\": {\"Test 2\": \"9.00 / 18\", \"Test 1\": \"10.00 / 16\"}}}\n"
     ]
    }
   ],
   "source": [
    "def csv_to_json_first_method(csv_file):\n",
    "\n",
    "    from json import dumps\n",
    "    #create a dictionary\n",
    "    data_dict = {}\n",
    "    my_dict = {}\n",
    "    with open(csv_file, encoding = 'latin1') as csvfile:\n",
    "        my_reader = csv.DictReader(csvfile)\n",
    "        print(my_reader.fieldnames)\n",
    "        my_data = [my_row for my_row in my_reader]\n",
    "        for my_row in my_data:\n",
    "            #print(my_row)\n",
    "            my_dict = {}\n",
    "            my_dict[my_reader.fieldnames[0]] = my_row[my_reader.fieldnames[0]]\n",
    "            my_dict[my_reader.fieldnames[1]] = my_row[my_reader.fieldnames[1]]\n",
    "            data_dict[my_row[my_reader.fieldnames[2]]] = my_dict\n",
    "    print(\"====================\")\n",
    "    my_my_dict = {}\n",
    "    my_my_dict['test'] = data_dict\n",
    "    print(my_my_dict)\n",
    "    #for item in data_dict.items():\n",
    "    #    print(item)\n",
    "    #\n",
    "    # convert both intermediary results to JSON object\n",
    "    #\n",
    "    y = dumps(my_my_dict)\n",
    "    print(\"====================\")\n",
    "    print(y)\n",
    "    print(type(y))\n",
    "    print(\"====================\")\n",
    "\n",
    "    return y\n",
    "\n",
    "\n",
    "def csv_to_json_second_method(csv_file):\n",
    "\n",
    "    from json import dumps\n",
    "    #create a dictionary\n",
    "    data_dict = {}\n",
    "    csv_rows = []\n",
    "    #open a csv file handlerh\n",
    "    with open(csv_file, encoding = 'latin1', newline='') as csv_file_handler:\n",
    "        csv_reader = csv.DictReader(csv_file_handler)\n",
    "        field = csv_reader.fieldnames\n",
    "        for row in csv_reader:\n",
    "            #print([{field[i]:row[field[i]] for i in range(len(field))}])\n",
    "            csv_rows.extend([{field[i]:row[field[i]] for i in range(len(field))}])\n",
    "\n",
    "    print(\"====================\")\n",
    "    data_dict['test'] = csv_rows\n",
    "    #print(type(csv_rows))\n",
    "    print(data_dict)\n",
    "    #print(data_dict['test'][0])\n",
    "    #print(\"====================\")\n",
    "\n",
    "    #\n",
    "    # convert intermediary results to JSON object\n",
    "    #\n",
    "    z = dumps(data_dict)\n",
    "    print(\"====================\")\n",
    "    print(z)\n",
    "    print(type(z))\n",
    "    print(\"====================\")\n",
    "\n",
    "    return z\n",
    "\n",
    "\n",
    "def jointure(json1, json2):\n",
    "\n",
    "    from json import loads\n",
    "    from json import dumps\n",
    "\n",
    "    # First, transform json objects to dictionaries\n",
    "\n",
    "    d1_name = list(loads(json1))[0]\n",
    "    #print(d1_name)\n",
    "    d2_name = list(loads(json2))[0]\n",
    "    #print(d2_name)\n",
    "\n",
    "    d1 = loads(json1)[d1_name]\n",
    "    d2 = loads(json2)[d2_name]\n",
    "\n",
    "    #print(att_name,type(att_name))\n",
    "    # Second, iterate through dictionaries\n",
    "    d_res = {}\n",
    "    for key1, val1 in d1.items():\n",
    "        #print(key1, '==', val1)\n",
    "        for key2, val2 in d2.items():\n",
    "            #print(key1, '==', key2)\n",
    "            #print([ord(c) for c in key1],key1,[ord(c) for c in att_name],att_name)\n",
    "            if key1 == key2:\n",
    "                d = {}\n",
    "                d.update(val1)\n",
    "                d.update(val2)\n",
    "                #print(d)\n",
    "                d_res[key1] = d\n",
    "    my_my_dict = {}\n",
    "    my_my_dict['test'] = d_res\n",
    "    z = dumps(my_my_dict)\n",
    "\n",
    "    return z\n",
    "\n",
    "# Main program\n",
    "\n",
    "json_one = csv_to_json_first_method(\"../data/test.csv\")\n",
    "json_two = csv_to_json_first_method(\"../data/test_1.csv\")\n",
    "\n",
    "d = jointure (json_one, json_two)\n",
    "print(d)"
   ]
  },
  {
   "cell_type": "markdown",
   "metadata": {
    "id": "g2-_uOKe-4QS"
   },
   "source": [
    "##**JSON/REDIS**"
   ]
  },
  {
   "cell_type": "code",
   "execution_count": null,
   "metadata": {
    "colab": {
     "base_uri": "https://localhost:8080/"
    },
    "id": "SYvcj8RC--2i",
    "outputId": "0a25ba5a-2a1e-4d53-9da2-6ec0971c18c8"
   },
   "outputs": [
    {
     "name": "stdout",
     "output_type": "stream",
     "text": [
      "{'Hervé P': {'Test 2': '12.00 / 18', 'Test 1': '10.00 / 16'}, 'Laurent H': {'Test 2': '12.00 / 18', 'Test 1': '15.00 / 16'}, 'Destin L': {'Test 2': '7.00 / 18', 'Test 1': '11.00 / 16'}, 'Guillaume C': {'Test 2': '4.00 / 18', 'Test 1': '10.00 / 16'}, 'Haytem D': {'Test 2': '7.00 / 18', 'Test 1': '12.00 / 16'}, 'Cam Chau N': {'Test 2': '9.00 / 18', 'Test 1': '6.00 / 16'}, 'Sarra Z': {'Test 2': '6.00 / 18', 'Test 1': '11.00 / 16'}, 'Romulus L': {'Test 2': '11.00 / 18', 'Test 1': '11.00 / 16'}, 'Thierno D': {'Test 2': '8.00 / 18', 'Test 1': '5.00 / 16'}, 'Rosenthal Preston R': {'Test 2': '13.00 / 18', 'Test 1': '13.00 / 16'}, 'Betty T': {'Test 2': '11.00 / 18', 'Test 1': '11.00 / 16'}, 'Mouloud B': {'Test 2': '17.00 / 18', 'Test 1': '13.00 / 16'}, 'Joseph L': {'Test 2': '11.00 / 18', 'Test 1': '11.00 / 16'}, 'Nataliya P': {'Test 2': '9.00 / 18', 'Test 1': '10.00 / 16'}}\n"
     ]
    }
   ],
   "source": [
    "# Fonction pour sauvegarder des données JSON dans un fichier\n",
    "def save_json_to_file(json_data, json_file):\n",
    "    with open(json_file, 'w') as f:\n",
    "        # Si `json_data` est une chaîne, la convertir en dictionnaire\n",
    "        if isinstance(json_data, str):\n",
    "            try:\n",
    "                json_data = json.loads(json_data)\n",
    "            except (TypeError, json.JSONDecodeError):\n",
    "                pass\n",
    "        json.dump(json_data, f, indent=4)\n",
    "\n",
    "\n",
    "# Fonction pour charger les données du fichier JSON dans Redis\n",
    "def json_to_redis(json_file):\n",
    "\n",
    "    # Charger le contenu du fichier JSON\n",
    "    with open(json_file, 'r') as f:\n",
    "        data = json.load(f)\n",
    "\n",
    "    # Récupérer les éléments sous 'test'\n",
    "    items = data.get('test', {})\n",
    "\n",
    "    # Insérer les données dans Redis\n",
    "    if isinstance(items, dict):\n",
    "        for key, value in items.items():\n",
    "            r.set(key, json.dumps(value))\n",
    "    else:\n",
    "        return \"Le contenu sous 'test' n'est pas un dictionnaire.\"\n",
    "\n",
    "    # Récupérer les données depuis Redis et les retourner\n",
    "    return {key: json.loads(r.get(key)) for key in items.keys() if r.get(key)}\n",
    "\n",
    "\n",
    "\n",
    "json_file = 'data.json'\n",
    "\n",
    "save_json_to_file(json_one, json_file)\n",
    "\n",
    "donnees = json_to_redis(json_file)\n",
    "print(donnees)"
   ]
  },
  {
   "cell_type": "markdown",
   "metadata": {
    "id": "0Y9rt5sbgsUW"
   },
   "source": [
    "##**BLOOM FILTER**"
   ]
  },
  {
   "cell_type": "markdown",
   "metadata": {
    "id": "mKkw3J0RvPQl"
   },
   "source": [
    "Un **Bloom filter** est une structure de données efficace en mémoire qui permet de tester si un élément appartient à un ensemble, avec la possibilité de faux positifs mais jamais de faux négatifs. Il est souvent utilisé pour économiser des ressources lors de recherches rapides. Avec Redis, via l'extension **RedisBloom**, on peut utiliser des Bloom filters pour vérifier rapidement si des éléments sont présents dans des ensembles massifs, ce qui aide à réduire les requêtes coûteuses en mémoire ou en temps de calcul."
   ]
  },
  {
   "cell_type": "code",
   "execution_count": null,
   "metadata": {
    "colab": {
     "base_uri": "https://localhost:8080/"
    },
    "id": "69RJC2XsrBe7",
    "outputId": "17f66d78-1699-49ad-d5cc-a2921fdf14ec"
   },
   "outputs": [
    {
     "name": "stdout",
     "output_type": "stream",
     "text": [
      "Pomme  : 1\n",
      "Banane : 1\n",
      "Orange : 0\n"
     ]
    }
   ],
   "source": [
    "# Connexion à Redis\n",
    "rb = Client(host='********', port=17931, password='*******')\n",
    "\n",
    "# Ajouter des éléments au Bloom Filter\n",
    "rb.bfAdd('test', 'pomme')\n",
    "rb.bfAdd('test', 'banane')\n",
    "\n",
    "# Vérifier la présence des éléments\n",
    "print(f\"Pomme  : {rb.bfExists('test', 'pomme')}\")\n",
    "print(f\"Banane : {rb.bfExists('test', 'banane')}\")\n",
    "print(f\"Orange : {rb.bfExists('test', 'orange')}\")"
   ]
  },
  {
   "cell_type": "code",
   "execution_count": null,
   "metadata": {
    "colab": {
     "base_uri": "https://localhost:8080/"
    },
    "id": "AgPBb_DppzKi",
    "outputId": "3adc3e7f-e4d2-4f32-cffb-5d6852454b76"
   },
   "outputs": [
    {
     "name": "stdout",
     "output_type": "stream",
     "text": [
      "Temps de recherche dans Bloom Filter (Redis) : 1.556147 secondes\n",
      "Temps de recherche dans la liste : 0.006372 secondes\n"
     ]
    }
   ],
   "source": [
    "# Charger les données\n",
    "data = pd.read_csv(\"../data/DEM-1_1.csv\", sep=\"\\t\", low_memory=False)\n",
    "words = data['SENS'].tolist()  # Liste de mots du fichier\n",
    "\n",
    "def comparaison_suivant_la_structuree(data):\n",
    "\n",
    "    # Ajouter les mots dans le Bloom Filter Redis et dans une liste Python\n",
    "    word_list = []\n",
    "    for word in words[:350]:\n",
    "        rb.bfAdd('bloom_filter', word)\n",
    "        word_list.append(word)\n",
    "\n",
    "    # Générer 100 mots aléatoires pour le test\n",
    "    test_words = random.sample(words, 300)\n",
    "\n",
    "    # Mesurer le temps de recherche dans le Bloom Filter Redis\n",
    "    start_time = time.time()\n",
    "    for test_word in test_words:\n",
    "        rb.bfExists('bloom_filter', test_word)\n",
    "    bloom_time = time.time() - start_time\n",
    "\n",
    "    # Mesurer le temps de recherche dans la liste Python\n",
    "    start_time = time.time()\n",
    "    for test_word in test_words:\n",
    "        test_word in word_list\n",
    "    list_time = time.time() - start_time\n",
    "\n",
    "    return bloom_time, list_time\n",
    "\n",
    "\n",
    "# Charger les données\n",
    "data = pd.read_csv(\"../data/DEM-1_1.csv\", sep=\"\\t\", low_memory=False)\n",
    "words = data['SENS'].tolist()  # Liste de mots du fichier\n",
    "\n",
    "# Appel de la fonction qui permet de comparer le tempsd'éxecution entre un bloomfilter et une liste\n",
    "times = comparaison_suivant_la_structuree(words)\n",
    "\n",
    "# Afficher le résultat\n",
    "print(f\"Temps de recherche dans Bloom Filter (Redis) : {times[0]:.6f} secondes\")\n",
    "print(f\"Temps de recherche dans la liste : {times[1]:.6f} secondes\")"
   ]
  },
  {
   "cell_type": "code",
   "execution_count": null,
   "metadata": {
    "id": "duzKUlphVUIU"
   },
   "outputs": [],
   "source": [
    "\"\"\" Script pour publier de manière espacée (toutes les 1 à 3 secondes) un couple (date, valeur_de_CO2),\n",
    "représentant une date de mesure et la valeur prise sur un capteur de CO2.\"\"\"\n",
    "\n",
    "def publication_CO2():\n",
    "  i = 0\n",
    "  while i >=0 :\n",
    "    valeur_CO2 = random.randint(1000, 1500)\n",
    "    date = time.strftime(\"%Y-%m-%d %H:%M:%S\")\n",
    "    print(f\"Date : {date} - Valeur de CO2 : {valeur_CO2}\")\n",
    "    time.sleep(3)\n",
    "    i += 1\n"
   ]
  },
  {
   "cell_type": "code",
   "execution_count": null,
   "metadata": {
    "colab": {
     "base_uri": "https://localhost:8080/",
     "height": 554
    },
    "id": "Eh9LjY1ecqVU",
    "outputId": "a974af78-71be-4985-d95a-e2d2f71b4167"
   },
   "outputs": [
    {
     "name": "stdout",
     "output_type": "stream",
     "text": [
      "Date : 2024-11-13 22:47:06 - Valeur de CO2 : 1106\n",
      "Date : 2024-11-13 22:47:09 - Valeur de CO2 : 1236\n",
      "Date : 2024-11-13 22:47:12 - Valeur de CO2 : 1366\n",
      "Date : 2024-11-13 22:47:15 - Valeur de CO2 : 1373\n",
      "Date : 2024-11-13 22:47:18 - Valeur de CO2 : 1265\n",
      "Date : 2024-11-13 22:47:21 - Valeur de CO2 : 1035\n",
      "Date : 2024-11-13 22:47:24 - Valeur de CO2 : 1349\n",
      "Date : 2024-11-13 22:47:27 - Valeur de CO2 : 1056\n",
      "Date : 2024-11-13 22:47:30 - Valeur de CO2 : 1255\n",
      "Date : 2024-11-13 22:47:33 - Valeur de CO2 : 1299\n",
      "Date : 2024-11-13 22:47:36 - Valeur de CO2 : 1103\n",
      "Date : 2024-11-13 22:47:39 - Valeur de CO2 : 1216\n",
      "Date : 2024-11-13 22:47:42 - Valeur de CO2 : 1410\n",
      "Date : 2024-11-13 22:47:45 - Valeur de CO2 : 1072\n"
     ]
    },
    {
     "ename": "KeyboardInterrupt",
     "evalue": "",
     "output_type": "error",
     "traceback": [
      "\u001b[1;31m---------------------------------------------------------------------------\u001b[0m",
      "\u001b[1;31mKeyboardInterrupt\u001b[0m                         Traceback (most recent call last)",
      "Cell \u001b[1;32mIn[14], line 1\u001b[0m\n\u001b[1;32m----> 1\u001b[0m \u001b[43mpublication_CO2\u001b[49m\u001b[43m(\u001b[49m\u001b[43m)\u001b[49m\n",
      "Cell \u001b[1;32mIn[13], line 10\u001b[0m, in \u001b[0;36mpublication_CO2\u001b[1;34m()\u001b[0m\n\u001b[0;32m      8\u001b[0m date \u001b[38;5;241m=\u001b[39m time\u001b[38;5;241m.\u001b[39mstrftime(\u001b[38;5;124m\"\u001b[39m\u001b[38;5;124m%\u001b[39m\u001b[38;5;124mY-\u001b[39m\u001b[38;5;124m%\u001b[39m\u001b[38;5;124mm-\u001b[39m\u001b[38;5;132;01m%d\u001b[39;00m\u001b[38;5;124m \u001b[39m\u001b[38;5;124m%\u001b[39m\u001b[38;5;124mH:\u001b[39m\u001b[38;5;124m%\u001b[39m\u001b[38;5;124mM:\u001b[39m\u001b[38;5;124m%\u001b[39m\u001b[38;5;124mS\u001b[39m\u001b[38;5;124m\"\u001b[39m)\n\u001b[0;32m      9\u001b[0m \u001b[38;5;28mprint\u001b[39m(\u001b[38;5;124mf\u001b[39m\u001b[38;5;124m\"\u001b[39m\u001b[38;5;124mDate : \u001b[39m\u001b[38;5;132;01m{\u001b[39;00mdate\u001b[38;5;132;01m}\u001b[39;00m\u001b[38;5;124m - Valeur de CO2 : \u001b[39m\u001b[38;5;132;01m{\u001b[39;00mvaleur_CO2\u001b[38;5;132;01m}\u001b[39;00m\u001b[38;5;124m\"\u001b[39m)\n\u001b[1;32m---> 10\u001b[0m \u001b[43mtime\u001b[49m\u001b[38;5;241;43m.\u001b[39;49m\u001b[43msleep\u001b[49m\u001b[43m(\u001b[49m\u001b[38;5;241;43m3\u001b[39;49m\u001b[43m)\u001b[49m\n\u001b[0;32m     11\u001b[0m i \u001b[38;5;241m+\u001b[39m\u001b[38;5;241m=\u001b[39m \u001b[38;5;241m1\u001b[39m\n",
      "\u001b[1;31mKeyboardInterrupt\u001b[0m: "
     ]
    }
   ],
   "source": [
    "publication_CO2()"
   ]
  },
  {
   "cell_type": "code",
   "execution_count": null,
   "metadata": {
    "id": "CzRNkFI6cyRM"
   },
   "outputs": [],
   "source": [
    "\"\"\" script Python qui calcule toutes les minutes, la moyenne des valeurs de CO2 reçues sur la dernière minute, les dernières 30 minutes et\n",
    "la dernière heure, puis affiche ces 3 valeurs. \"\"\"\n",
    "\n",
    "\n",
    "\n",
    "def moyenne_CO2():\n",
    "    liste_valeurs = []\n",
    "    i = 0\n",
    "    start_time = time.time()  # Initialisation correcte du start_time\n",
    "\n",
    "    while i >= 0:\n",
    "        # Générer une valeur de CO2 aléatoire\n",
    "        valeur_CO2 = random.randint(1000, 1500)\n",
    "        liste_valeurs.append(valeur_CO2)\n",
    "        date = time.strftime(\"%Y-%m-%d %H:%M:%S\")\n",
    "        print(f\"Date : {date} - Valeur de CO2 : {valeur_CO2}\")\n",
    "\n",
    "        # Calculer la moyenne sur la dernière minute\n",
    "        if time.time() - start_time >= 60:\n",
    "            moyenne = mean(liste_valeurs)\n",
    "            print(f\"\\033[91mLa moyenne de CO2 émise pendant une minute est {moyenne}.\\033[0m\")\n",
    "            liste_valeurs.clear()\n",
    "            start_time = time.time()\n",
    "\n",
    "        # Calculer la moyenne pendant les 30 dernières minutes\n",
    "        elif time.time() - start_time >= 1800:\n",
    "            moyenne = mean(liste_valeurs)\n",
    "            print(f\"\\033[91mLa moyenne de CO2 émise pendant 30 minutes est {moyenne}.\\033[0m\")\n",
    "            liste_valeurs.clear()\n",
    "            start_time = time.time()\n",
    "\n",
    "        # Calculer la moyenne pendant une heure\n",
    "        elif time.time() - start_time >= 3600:\n",
    "            moyenne = mean(liste_valeurs)\n",
    "            print(f\"\\033[91mLa moyenne de CO2 émise pendant une heure est {moyenne}.\\033[0m\")\n",
    "            liste_valeurs.clear()\n",
    "            start_time = time.time()\n",
    "\n",
    "        time.sleep(3)\n",
    "        i += 1\n",
    "\n",
    "\n"
   ]
  },
  {
   "cell_type": "code",
   "execution_count": null,
   "metadata": {
    "colab": {
     "base_uri": "https://localhost:8080/",
     "height": 720
    },
    "id": "VIIC_fhxj6JD",
    "outputId": "ad2688ac-006d-4c9c-ecc9-a86b0b56f869"
   },
   "outputs": [
    {
     "name": "stdout",
     "output_type": "stream",
     "text": [
      "Date : 2024-11-13 22:48:52 - Valeur de CO2 : 1371\n",
      "Date : 2024-11-13 22:48:55 - Valeur de CO2 : 1378\n",
      "Date : 2024-11-13 22:48:58 - Valeur de CO2 : 1028\n",
      "Date : 2024-11-13 22:49:01 - Valeur de CO2 : 1464\n",
      "Date : 2024-11-13 22:49:04 - Valeur de CO2 : 1348\n",
      "Date : 2024-11-13 22:49:07 - Valeur de CO2 : 1068\n",
      "Date : 2024-11-13 22:49:10 - Valeur de CO2 : 1117\n",
      "Date : 2024-11-13 22:49:13 - Valeur de CO2 : 1005\n",
      "Date : 2024-11-13 22:49:16 - Valeur de CO2 : 1083\n",
      "Date : 2024-11-13 22:49:19 - Valeur de CO2 : 1406\n",
      "Date : 2024-11-13 22:49:22 - Valeur de CO2 : 1475\n",
      "Date : 2024-11-13 22:49:25 - Valeur de CO2 : 1478\n",
      "Date : 2024-11-13 22:49:28 - Valeur de CO2 : 1240\n",
      "Date : 2024-11-13 22:49:31 - Valeur de CO2 : 1384\n",
      "Date : 2024-11-13 22:49:34 - Valeur de CO2 : 1110\n",
      "Date : 2024-11-13 22:49:37 - Valeur de CO2 : 1000\n",
      "Date : 2024-11-13 22:49:40 - Valeur de CO2 : 1255\n",
      "Date : 2024-11-13 22:49:43 - Valeur de CO2 : 1253\n",
      "Date : 2024-11-13 22:49:46 - Valeur de CO2 : 1044\n",
      "Date : 2024-11-13 22:49:49 - Valeur de CO2 : 1332\n",
      "Date : 2024-11-13 22:49:52 - Valeur de CO2 : 1251\n",
      "\u001b[91mLa moyenne de CO2 émise pendant une minute est 1242.3809523809523.\u001b[0m\n",
      "Date : 2024-11-13 22:49:55 - Valeur de CO2 : 1264\n",
      "Date : 2024-11-13 22:49:58 - Valeur de CO2 : 1429\n",
      "Date : 2024-11-13 22:50:01 - Valeur de CO2 : 1337\n",
      "Date : 2024-11-13 22:50:04 - Valeur de CO2 : 1471\n",
      "Date : 2024-11-13 22:50:07 - Valeur de CO2 : 1293\n",
      "Date : 2024-11-13 22:50:10 - Valeur de CO2 : 1122\n",
      "Date : 2024-11-13 22:50:13 - Valeur de CO2 : 1148\n",
      "Date : 2024-11-13 22:50:16 - Valeur de CO2 : 1187\n",
      "Date : 2024-11-13 22:50:19 - Valeur de CO2 : 1208\n",
      "Date : 2024-11-13 22:50:22 - Valeur de CO2 : 1101\n",
      "Date : 2024-11-13 22:50:25 - Valeur de CO2 : 1435\n",
      "Date : 2024-11-13 22:50:28 - Valeur de CO2 : 1453\n",
      "Date : 2024-11-13 22:50:31 - Valeur de CO2 : 1391\n",
      "Date : 2024-11-13 22:50:34 - Valeur de CO2 : 1413\n",
      "Date : 2024-11-13 22:50:37 - Valeur de CO2 : 1422\n",
      "Date : 2024-11-13 22:50:40 - Valeur de CO2 : 1421\n",
      "Date : 2024-11-13 22:50:43 - Valeur de CO2 : 1436\n",
      "Date : 2024-11-13 22:50:46 - Valeur de CO2 : 1057\n",
      "Date : 2024-11-13 22:50:49 - Valeur de CO2 : 1478\n",
      "Date : 2024-11-13 22:50:52 - Valeur de CO2 : 1202\n",
      "\u001b[91mLa moyenne de CO2 émise pendant une minute est 1313.4.\u001b[0m\n",
      "Date : 2024-11-13 22:50:55 - Valeur de CO2 : 1004\n",
      "Date : 2024-11-13 22:50:58 - Valeur de CO2 : 1498\n",
      "Date : 2024-11-13 22:51:01 - Valeur de CO2 : 1485\n",
      "Date : 2024-11-13 22:51:04 - Valeur de CO2 : 1062\n",
      "Date : 2024-11-13 22:51:07 - Valeur de CO2 : 1307\n",
      "Date : 2024-11-13 22:51:10 - Valeur de CO2 : 1324\n",
      "Date : 2024-11-13 22:51:13 - Valeur de CO2 : 1048\n",
      "Date : 2024-11-13 22:51:16 - Valeur de CO2 : 1462\n",
      "Date : 2024-11-13 22:51:19 - Valeur de CO2 : 1158\n",
      "Date : 2024-11-13 22:51:22 - Valeur de CO2 : 1069\n",
      "Date : 2024-11-13 22:51:25 - Valeur de CO2 : 1392\n",
      "Date : 2024-11-13 22:51:28 - Valeur de CO2 : 1087\n"
     ]
    },
    {
     "ename": "KeyboardInterrupt",
     "evalue": "",
     "output_type": "error",
     "traceback": [
      "\u001b[1;31m---------------------------------------------------------------------------\u001b[0m",
      "\u001b[1;31mKeyboardInterrupt\u001b[0m                         Traceback (most recent call last)",
      "Cell \u001b[1;32mIn[16], line 1\u001b[0m\n\u001b[1;32m----> 1\u001b[0m \u001b[43mmoyenne_CO2\u001b[49m\u001b[43m(\u001b[49m\u001b[43m)\u001b[49m\n",
      "Cell \u001b[1;32mIn[15], line 39\u001b[0m, in \u001b[0;36mmoyenne_CO2\u001b[1;34m()\u001b[0m\n\u001b[0;32m     36\u001b[0m     liste_valeurs\u001b[38;5;241m.\u001b[39mclear()\n\u001b[0;32m     37\u001b[0m     start_time \u001b[38;5;241m=\u001b[39m time\u001b[38;5;241m.\u001b[39mtime()\n\u001b[1;32m---> 39\u001b[0m \u001b[43mtime\u001b[49m\u001b[38;5;241;43m.\u001b[39;49m\u001b[43msleep\u001b[49m\u001b[43m(\u001b[49m\u001b[38;5;241;43m3\u001b[39;49m\u001b[43m)\u001b[49m\n\u001b[0;32m     40\u001b[0m i \u001b[38;5;241m+\u001b[39m\u001b[38;5;241m=\u001b[39m \u001b[38;5;241m1\u001b[39m\n",
      "\u001b[1;31mKeyboardInterrupt\u001b[0m: "
     ]
    }
   ],
   "source": [
    "moyenne_CO2()"
   ]
  },
  {
   "cell_type": "markdown",
   "metadata": {
    "id": "Czg4ZgrdtlKx"
   },
   "source": [
    "Bien que Redis soit performant, il présente certaines limites :\n",
    "\n",
    "1. **Durabilité des données** : Étant principalement un store en mémoire, il y a un risque de perte de données en cas de panne, malgré des options de persistance.\n",
    "2. **Scalabilité limitée** : La gestion des clusters peut être complexe, et Redis est souvent limité à une seule instance.\n",
    "3. **Capacité de mémoire** : Les données sont stockées en RAM, ce qui limite la quantité totale de données pouvant être gérées.\n",
    "4. **Structure de données fixe** : Les utilisateurs doivent planifier la structure des données en raison des contraintes liées à la gestion de la mémoire.\n",
    "\n",
    "Bien que Redis soit idéal pour des applications nécessitant rapidité et accessibilité en temps réel, **MongoDB** se présente comme une alternative robuste pour une gestion flexible et scalable de grandes quantités de données.\n"
   ]
  }
 ],
 "metadata": {
  "colab": {
   "collapsed_sections": [
    "UaZAlPcGd2LL",
    "IESsMTMpg0ZI",
    "uk9grsWu1Nks",
    "_ymGKU9e9wrW",
    "g2-_uOKe-4QS",
    "0Y9rt5sbgsUW"
   ],
   "provenance": []
  },
  "kernelspec": {
   "display_name": "Python 3",
   "name": "python3"
  },
  "language_info": {
   "codemirror_mode": {
    "name": "ipython",
    "version": 3
   },
   "file_extension": ".py",
   "mimetype": "text/x-python",
   "name": "python",
   "nbconvert_exporter": "python",
   "pygments_lexer": "ipython3",
   "version": "3.12.2"
  }
 },
 "nbformat": 4,
 "nbformat_minor": 0
}
